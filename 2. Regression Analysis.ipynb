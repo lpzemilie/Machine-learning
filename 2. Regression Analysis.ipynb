{
 "cells": [
  {
   "cell_type": "markdown",
   "metadata": {},
   "source": [
    "<hr style=\"height:1px;border:none;color:#333;background-color:#333;\" />\n",
    "<hr style=\"height:1px;border:none;color:#333;background-color:#333;\" />\n",
    "<br><br><br>\n",
    "\n",
    "<h1> Regression Analysis  </h1><br>\n",
    "<b> Machine Learning</b><br>\n",
    "Émilie Lopez<br>\n",
    "Hult International Business School <br>\n",
    "<br><br><br><br><br>\n",
    "\n",
    "<hr style=\"height:1px;border:none;color:#333;background-color:#333;\" />\n",
    "<hr style=\"height:1px;border:none;color:#333;background-color:#333;\" />\n",
    "<br>"
   ]
  },
  {
   "cell_type": "markdown",
   "metadata": {},
   "source": [
    "<h1> PART I: INITIAL EXPLORATION OF THE DATASET </h1>\n",
    "<br>\n",
    "<h3>IMPORTING LIBRARIES</h3>"
   ]
  },
  {
   "cell_type": "code",
   "execution_count": 1,
   "metadata": {},
   "outputs": [],
   "source": [
    "# Importing libraries\n",
    "\n",
    "import pandas as pd \n",
    "import matplotlib.pyplot as plt \n",
    "import seaborn as sns\n",
    "import statsmodels.formula.api as smf\n",
    "import numpy as np\n",
    "\n",
    "from sklearn.linear_model import LinearRegression\n",
    "from sklearn.linear_model import Lasso\n",
    "from sklearn.linear_model import ARDRegression\n",
    "from sklearn.neighbors import KNeighborsRegressor\n",
    "from sklearn.model_selection import train_test_split\n",
    "from sklearn.model_selection import RandomizedSearchCV"
   ]
  },
  {
   "cell_type": "markdown",
   "metadata": {},
   "source": [
    "<br>\n",
    "<h3>IMPORTING DATASET TO PYTHON NOTEBOOK</h3>"
   ]
  },
  {
   "cell_type": "code",
   "execution_count": 2,
   "metadata": {},
   "outputs": [],
   "source": [
    "# Loading Apprentice Chef dataset\n",
    "file = \"./Apprentice_Chef_Dataset.xlsx\"\n",
    "apprentice = pd.read_excel(io = file)"
   ]
  },
  {
   "cell_type": "markdown",
   "metadata": {},
   "source": [
    "<br>\n",
    "<h3> OBSERVING THE DATA </h3>"
   ]
  },
  {
   "cell_type": "code",
   "execution_count": 3,
   "metadata": {},
   "outputs": [
    {
     "data": {
      "text/html": [
       "<div>\n",
       "<style scoped>\n",
       "    .dataframe tbody tr th:only-of-type {\n",
       "        vertical-align: middle;\n",
       "    }\n",
       "\n",
       "    .dataframe tbody tr th {\n",
       "        vertical-align: top;\n",
       "    }\n",
       "\n",
       "    .dataframe thead th {\n",
       "        text-align: right;\n",
       "    }\n",
       "</style>\n",
       "<table border=\"1\" class=\"dataframe\">\n",
       "  <thead>\n",
       "    <tr style=\"text-align: right;\">\n",
       "      <th></th>\n",
       "      <th>REVENUE</th>\n",
       "      <th>CROSS_SELL_SUCCESS</th>\n",
       "      <th>NAME</th>\n",
       "      <th>EMAIL</th>\n",
       "      <th>FIRST_NAME</th>\n",
       "      <th>FAMILY_NAME</th>\n",
       "      <th>TOTAL_MEALS_ORDERED</th>\n",
       "      <th>UNIQUE_MEALS_PURCH</th>\n",
       "      <th>CONTACTS_W_CUSTOMER_SERVICE</th>\n",
       "      <th>PRODUCT_CATEGORIES_VIEWED</th>\n",
       "      <th>...</th>\n",
       "      <th>EARLY_DELIVERIES</th>\n",
       "      <th>LATE_DELIVERIES</th>\n",
       "      <th>PACKAGE_LOCKER</th>\n",
       "      <th>REFRIGERATED_LOCKER</th>\n",
       "      <th>AVG_PREP_VID_TIME</th>\n",
       "      <th>LARGEST_ORDER_SIZE</th>\n",
       "      <th>MASTER_CLASSES_ATTENDED</th>\n",
       "      <th>MEDIAN_MEAL_RATING</th>\n",
       "      <th>AVG_CLICKS_PER_VISIT</th>\n",
       "      <th>TOTAL_PHOTOS_VIEWED</th>\n",
       "    </tr>\n",
       "  </thead>\n",
       "  <tbody>\n",
       "    <tr>\n",
       "      <th>0</th>\n",
       "      <td>393.0</td>\n",
       "      <td>1</td>\n",
       "      <td>Saathos</td>\n",
       "      <td>saathos@unitedhealth.com</td>\n",
       "      <td>Saathos</td>\n",
       "      <td>Saathos</td>\n",
       "      <td>14</td>\n",
       "      <td>6</td>\n",
       "      <td>12</td>\n",
       "      <td>10</td>\n",
       "      <td>...</td>\n",
       "      <td>0</td>\n",
       "      <td>2</td>\n",
       "      <td>0</td>\n",
       "      <td>0</td>\n",
       "      <td>33.4</td>\n",
       "      <td>1</td>\n",
       "      <td>0</td>\n",
       "      <td>1</td>\n",
       "      <td>17</td>\n",
       "      <td>0</td>\n",
       "    </tr>\n",
       "    <tr>\n",
       "      <th>1</th>\n",
       "      <td>1365.0</td>\n",
       "      <td>1</td>\n",
       "      <td>Alysanne Osgrey</td>\n",
       "      <td>alysanne.osgrey@ge.org</td>\n",
       "      <td>Alysanne</td>\n",
       "      <td>Osgrey</td>\n",
       "      <td>87</td>\n",
       "      <td>3</td>\n",
       "      <td>8</td>\n",
       "      <td>8</td>\n",
       "      <td>...</td>\n",
       "      <td>0</td>\n",
       "      <td>2</td>\n",
       "      <td>0</td>\n",
       "      <td>0</td>\n",
       "      <td>84.8</td>\n",
       "      <td>1</td>\n",
       "      <td>0</td>\n",
       "      <td>3</td>\n",
       "      <td>13</td>\n",
       "      <td>170</td>\n",
       "    </tr>\n",
       "    <tr>\n",
       "      <th>2</th>\n",
       "      <td>800.0</td>\n",
       "      <td>1</td>\n",
       "      <td>Edwyd Fossoway</td>\n",
       "      <td>edwyd.fossoway@jnj.com</td>\n",
       "      <td>Edwyd</td>\n",
       "      <td>Fossoway</td>\n",
       "      <td>15</td>\n",
       "      <td>7</td>\n",
       "      <td>11</td>\n",
       "      <td>5</td>\n",
       "      <td>...</td>\n",
       "      <td>0</td>\n",
       "      <td>1</td>\n",
       "      <td>0</td>\n",
       "      <td>0</td>\n",
       "      <td>63.0</td>\n",
       "      <td>1</td>\n",
       "      <td>0</td>\n",
       "      <td>2</td>\n",
       "      <td>16</td>\n",
       "      <td>0</td>\n",
       "    </tr>\n",
       "    <tr>\n",
       "      <th>3</th>\n",
       "      <td>600.0</td>\n",
       "      <td>1</td>\n",
       "      <td>Eleyna Westerling</td>\n",
       "      <td>eleyna.westerling@ge.org</td>\n",
       "      <td>Eleyna</td>\n",
       "      <td>Westerling</td>\n",
       "      <td>13</td>\n",
       "      <td>6</td>\n",
       "      <td>11</td>\n",
       "      <td>5</td>\n",
       "      <td>...</td>\n",
       "      <td>0</td>\n",
       "      <td>3</td>\n",
       "      <td>0</td>\n",
       "      <td>0</td>\n",
       "      <td>43.8</td>\n",
       "      <td>1</td>\n",
       "      <td>0</td>\n",
       "      <td>2</td>\n",
       "      <td>14</td>\n",
       "      <td>0</td>\n",
       "    </tr>\n",
       "    <tr>\n",
       "      <th>4</th>\n",
       "      <td>1490.0</td>\n",
       "      <td>1</td>\n",
       "      <td>Elyn Norridge</td>\n",
       "      <td>elyn.norridge@jnj.com</td>\n",
       "      <td>Elyn</td>\n",
       "      <td>Norridge</td>\n",
       "      <td>47</td>\n",
       "      <td>8</td>\n",
       "      <td>6</td>\n",
       "      <td>10</td>\n",
       "      <td>...</td>\n",
       "      <td>0</td>\n",
       "      <td>8</td>\n",
       "      <td>0</td>\n",
       "      <td>0</td>\n",
       "      <td>84.8</td>\n",
       "      <td>1</td>\n",
       "      <td>1</td>\n",
       "      <td>3</td>\n",
       "      <td>12</td>\n",
       "      <td>205</td>\n",
       "    </tr>\n",
       "  </tbody>\n",
       "</table>\n",
       "<p>5 rows × 28 columns</p>\n",
       "</div>"
      ],
      "text/plain": [
       "   REVENUE  CROSS_SELL_SUCCESS               NAME                     EMAIL  \\\n",
       "0    393.0                   1            Saathos  saathos@unitedhealth.com   \n",
       "1   1365.0                   1    Alysanne Osgrey    alysanne.osgrey@ge.org   \n",
       "2    800.0                   1     Edwyd Fossoway    edwyd.fossoway@jnj.com   \n",
       "3    600.0                   1  Eleyna Westerling  eleyna.westerling@ge.org   \n",
       "4   1490.0                   1      Elyn Norridge     elyn.norridge@jnj.com   \n",
       "\n",
       "  FIRST_NAME FAMILY_NAME  TOTAL_MEALS_ORDERED  UNIQUE_MEALS_PURCH  \\\n",
       "0    Saathos     Saathos                   14                   6   \n",
       "1   Alysanne      Osgrey                   87                   3   \n",
       "2      Edwyd    Fossoway                   15                   7   \n",
       "3     Eleyna  Westerling                   13                   6   \n",
       "4       Elyn    Norridge                   47                   8   \n",
       "\n",
       "   CONTACTS_W_CUSTOMER_SERVICE  PRODUCT_CATEGORIES_VIEWED  ...  \\\n",
       "0                           12                         10  ...   \n",
       "1                            8                          8  ...   \n",
       "2                           11                          5  ...   \n",
       "3                           11                          5  ...   \n",
       "4                            6                         10  ...   \n",
       "\n",
       "   EARLY_DELIVERIES  LATE_DELIVERIES  PACKAGE_LOCKER  REFRIGERATED_LOCKER  \\\n",
       "0                 0                2               0                    0   \n",
       "1                 0                2               0                    0   \n",
       "2                 0                1               0                    0   \n",
       "3                 0                3               0                    0   \n",
       "4                 0                8               0                    0   \n",
       "\n",
       "   AVG_PREP_VID_TIME  LARGEST_ORDER_SIZE  MASTER_CLASSES_ATTENDED  \\\n",
       "0               33.4                   1                        0   \n",
       "1               84.8                   1                        0   \n",
       "2               63.0                   1                        0   \n",
       "3               43.8                   1                        0   \n",
       "4               84.8                   1                        1   \n",
       "\n",
       "   MEDIAN_MEAL_RATING  AVG_CLICKS_PER_VISIT  TOTAL_PHOTOS_VIEWED  \n",
       "0                   1                    17                    0  \n",
       "1                   3                    13                  170  \n",
       "2                   2                    16                    0  \n",
       "3                   2                    14                    0  \n",
       "4                   3                    12                  205  \n",
       "\n",
       "[5 rows x 28 columns]"
      ]
     },
     "execution_count": 3,
     "metadata": {},
     "output_type": "execute_result"
    }
   ],
   "source": [
    "# Looking at the first five rows of the dataset\n",
    "apprentice.head(n = 5)"
   ]
  },
  {
   "cell_type": "code",
   "execution_count": 4,
   "metadata": {
    "cell_style": "center"
   },
   "outputs": [
    {
     "name": "stdout",
     "output_type": "stream",
     "text": [
      "\n",
      "Size of Original Dataset\n",
      "------------------------\n",
      "Observations: 1946\n",
      "Features:     28\n",
      "\n"
     ]
    }
   ],
   "source": [
    "# Printing the number of observations and features\n",
    "print(f\"\"\"\n",
    "Size of Original Dataset\n",
    "------------------------\n",
    "Observations: {apprentice.shape[0]}\n",
    "Features:     {apprentice.shape[1]}\n",
    "\"\"\")\n",
    "\n",
    "\n",
    "## There are 1946 observations and 28 features"
   ]
  },
  {
   "cell_type": "code",
   "execution_count": 5,
   "metadata": {
    "cell_style": "center"
   },
   "outputs": [
    {
     "data": {
      "text/plain": [
       "REVENUE                         0\n",
       "CROSS_SELL_SUCCESS              0\n",
       "NAME                            0\n",
       "EMAIL                           0\n",
       "FIRST_NAME                      0\n",
       "FAMILY_NAME                    47\n",
       "TOTAL_MEALS_ORDERED             0\n",
       "UNIQUE_MEALS_PURCH              0\n",
       "CONTACTS_W_CUSTOMER_SERVICE     0\n",
       "PRODUCT_CATEGORIES_VIEWED       0\n",
       "AVG_TIME_PER_SITE_VISIT         0\n",
       "MOBILE_NUMBER                   0\n",
       "CANCELLATIONS_BEFORE_NOON       0\n",
       "CANCELLATIONS_AFTER_NOON        0\n",
       "TASTES_AND_PREFERENCES          0\n",
       "PC_LOGINS                       0\n",
       "MOBILE_LOGINS                   0\n",
       "WEEKLY_PLAN                     0\n",
       "EARLY_DELIVERIES                0\n",
       "LATE_DELIVERIES                 0\n",
       "PACKAGE_LOCKER                  0\n",
       "REFRIGERATED_LOCKER             0\n",
       "AVG_PREP_VID_TIME               0\n",
       "LARGEST_ORDER_SIZE              0\n",
       "MASTER_CLASSES_ATTENDED         0\n",
       "MEDIAN_MEAL_RATING              0\n",
       "AVG_CLICKS_PER_VISIT            0\n",
       "TOTAL_PHOTOS_VIEWED             0\n",
       "dtype: int64"
      ]
     },
     "execution_count": 5,
     "metadata": {},
     "output_type": "execute_result"
    }
   ],
   "source": [
    "# Checking if the dataset has missing value\n",
    "apprentice.isnull().sum(axis=0)\n",
    "\n",
    "\n",
    "## There are no missing values expect for the feature family name. Family\n",
    "## names are objects and therefore will not be included in the model."
   ]
  },
  {
   "cell_type": "code",
   "execution_count": 6,
   "metadata": {},
   "outputs": [
    {
     "name": "stdout",
     "output_type": "stream",
     "text": [
      "<class 'pandas.core.frame.DataFrame'>\n",
      "RangeIndex: 1946 entries, 0 to 1945\n",
      "Data columns (total 28 columns):\n",
      " #   Column                       Non-Null Count  Dtype  \n",
      "---  ------                       --------------  -----  \n",
      " 0   REVENUE                      1946 non-null   float64\n",
      " 1   CROSS_SELL_SUCCESS           1946 non-null   int64  \n",
      " 2   NAME                         1946 non-null   object \n",
      " 3   EMAIL                        1946 non-null   object \n",
      " 4   FIRST_NAME                   1946 non-null   object \n",
      " 5   FAMILY_NAME                  1899 non-null   object \n",
      " 6   TOTAL_MEALS_ORDERED          1946 non-null   int64  \n",
      " 7   UNIQUE_MEALS_PURCH           1946 non-null   int64  \n",
      " 8   CONTACTS_W_CUSTOMER_SERVICE  1946 non-null   int64  \n",
      " 9   PRODUCT_CATEGORIES_VIEWED    1946 non-null   int64  \n",
      " 10  AVG_TIME_PER_SITE_VISIT      1946 non-null   float64\n",
      " 11  MOBILE_NUMBER                1946 non-null   int64  \n",
      " 12  CANCELLATIONS_BEFORE_NOON    1946 non-null   int64  \n",
      " 13  CANCELLATIONS_AFTER_NOON     1946 non-null   int64  \n",
      " 14  TASTES_AND_PREFERENCES       1946 non-null   int64  \n",
      " 15  PC_LOGINS                    1946 non-null   int64  \n",
      " 16  MOBILE_LOGINS                1946 non-null   int64  \n",
      " 17  WEEKLY_PLAN                  1946 non-null   int64  \n",
      " 18  EARLY_DELIVERIES             1946 non-null   int64  \n",
      " 19  LATE_DELIVERIES              1946 non-null   int64  \n",
      " 20  PACKAGE_LOCKER               1946 non-null   int64  \n",
      " 21  REFRIGERATED_LOCKER          1946 non-null   int64  \n",
      " 22  AVG_PREP_VID_TIME            1946 non-null   float64\n",
      " 23  LARGEST_ORDER_SIZE           1946 non-null   int64  \n",
      " 24  MASTER_CLASSES_ATTENDED      1946 non-null   int64  \n",
      " 25  MEDIAN_MEAL_RATING           1946 non-null   int64  \n",
      " 26  AVG_CLICKS_PER_VISIT         1946 non-null   int64  \n",
      " 27  TOTAL_PHOTOS_VIEWED          1946 non-null   int64  \n",
      "dtypes: float64(3), int64(21), object(4)\n",
      "memory usage: 425.8+ KB\n",
      "None\n"
     ]
    }
   ],
   "source": [
    "# Looking at the data type\n",
    "print(apprentice.info())\n",
    "\n",
    "\n",
    "## Some features are object and should not be included in our model. Some \n",
    "## features are categorical and can be transformed with feature engineering."
   ]
  },
  {
   "cell_type": "markdown",
   "metadata": {},
   "source": [
    "<br>\n",
    "<h3> IDENTIFY DATA TYPE FOR EACH VARIABLE </h3>"
   ]
  },
  {
   "cell_type": "raw",
   "metadata": {},
   "source": [
    "CONTINUOUS\n",
    "----------\n",
    "REVENUE\n",
    "AVG_TIME_PER_SITE_VISIT \n",
    "AVG_PREP_VID_TIME\n",
    "\n",
    "\n",
    "INTERVAL/COUNT\n",
    "--------------\n",
    "CROSS_SELL_SUCCESS\n",
    "TOTAL_MEALS_ORDERED\n",
    "UNIQUE_MEALS_PURCH  \n",
    "CONTACTS_W_CUSTOMER_SERVICE\n",
    "PRODUCT_CATEGORIES_VIEWED\n",
    "MOBILE_NUMBER\n",
    "CANCELLATIONS_BEFORE_NOON\n",
    "CANCELLATIONS_AFTER_NOON\n",
    "TASTES_AND_PREFERENCES \n",
    "PC_LOGINS\n",
    "MOBILE_LOGINS\n",
    "WEEKLY_PLAN\n",
    "EARLY_DELIVERIES\n",
    "LATE_DELIVERIES\n",
    "PACKAGE_LOCKER\n",
    "REFRIGERATED_LOCKER\n",
    "LARGEST_ORDER_SIZE\n",
    "MASTER_CLASSES_ATTENDED\n",
    "MEDIAN_MEAL_RATING\n",
    "AVG_CLICKS_PER_VISIT\n",
    "AVG_CLICKS_PER_VISIT\n",
    "\n",
    "\n",
    "CATEGORICAL/OTHER\n",
    "-----------------\n",
    "NAME\n",
    "EMAIL\n",
    "FIRST_NAME\n",
    "FAMILY_NAME\n"
   ]
  },
  {
   "cell_type": "markdown",
   "metadata": {},
   "source": [
    "<br>\n",
    "<h3> LOOKING AT DESCRIPTIVE STATISTICS FOR NUMERIC DATA </h3>"
   ]
  },
  {
   "cell_type": "code",
   "execution_count": 7,
   "metadata": {},
   "outputs": [
    {
     "data": {
      "text/html": [
       "<div>\n",
       "<style scoped>\n",
       "    .dataframe tbody tr th:only-of-type {\n",
       "        vertical-align: middle;\n",
       "    }\n",
       "\n",
       "    .dataframe tbody tr th {\n",
       "        vertical-align: top;\n",
       "    }\n",
       "\n",
       "    .dataframe thead th {\n",
       "        text-align: right;\n",
       "    }\n",
       "</style>\n",
       "<table border=\"1\" class=\"dataframe\">\n",
       "  <thead>\n",
       "    <tr style=\"text-align: right;\">\n",
       "      <th></th>\n",
       "      <th>REVENUE</th>\n",
       "      <th>CROSS_SELL_SUCCESS</th>\n",
       "      <th>TOTAL_MEALS_ORDERED</th>\n",
       "      <th>UNIQUE_MEALS_PURCH</th>\n",
       "      <th>CONTACTS_W_CUSTOMER_SERVICE</th>\n",
       "      <th>PRODUCT_CATEGORIES_VIEWED</th>\n",
       "      <th>AVG_TIME_PER_SITE_VISIT</th>\n",
       "      <th>MOBILE_NUMBER</th>\n",
       "      <th>CANCELLATIONS_BEFORE_NOON</th>\n",
       "      <th>CANCELLATIONS_AFTER_NOON</th>\n",
       "      <th>...</th>\n",
       "      <th>EARLY_DELIVERIES</th>\n",
       "      <th>LATE_DELIVERIES</th>\n",
       "      <th>PACKAGE_LOCKER</th>\n",
       "      <th>REFRIGERATED_LOCKER</th>\n",
       "      <th>AVG_PREP_VID_TIME</th>\n",
       "      <th>LARGEST_ORDER_SIZE</th>\n",
       "      <th>MASTER_CLASSES_ATTENDED</th>\n",
       "      <th>MEDIAN_MEAL_RATING</th>\n",
       "      <th>AVG_CLICKS_PER_VISIT</th>\n",
       "      <th>TOTAL_PHOTOS_VIEWED</th>\n",
       "    </tr>\n",
       "  </thead>\n",
       "  <tbody>\n",
       "    <tr>\n",
       "      <th>count</th>\n",
       "      <td>1946.00</td>\n",
       "      <td>1946.00</td>\n",
       "      <td>1946.00</td>\n",
       "      <td>1946.0</td>\n",
       "      <td>1946.00</td>\n",
       "      <td>1946.00</td>\n",
       "      <td>1946.00</td>\n",
       "      <td>1946.00</td>\n",
       "      <td>1946.00</td>\n",
       "      <td>1946.00</td>\n",
       "      <td>...</td>\n",
       "      <td>1946.00</td>\n",
       "      <td>1946.00</td>\n",
       "      <td>1946.00</td>\n",
       "      <td>1946.00</td>\n",
       "      <td>1946.00</td>\n",
       "      <td>1946.00</td>\n",
       "      <td>1946.00</td>\n",
       "      <td>1946.00</td>\n",
       "      <td>1946.00</td>\n",
       "      <td>1946.00</td>\n",
       "    </tr>\n",
       "    <tr>\n",
       "      <th>mean</th>\n",
       "      <td>2107.29</td>\n",
       "      <td>0.68</td>\n",
       "      <td>74.63</td>\n",
       "      <td>4.9</td>\n",
       "      <td>6.98</td>\n",
       "      <td>5.38</td>\n",
       "      <td>99.60</td>\n",
       "      <td>0.88</td>\n",
       "      <td>1.40</td>\n",
       "      <td>0.17</td>\n",
       "      <td>...</td>\n",
       "      <td>1.49</td>\n",
       "      <td>2.97</td>\n",
       "      <td>0.36</td>\n",
       "      <td>0.11</td>\n",
       "      <td>150.56</td>\n",
       "      <td>4.44</td>\n",
       "      <td>0.60</td>\n",
       "      <td>2.79</td>\n",
       "      <td>13.51</td>\n",
       "      <td>106.43</td>\n",
       "    </tr>\n",
       "    <tr>\n",
       "      <th>std</th>\n",
       "      <td>1138.29</td>\n",
       "      <td>0.47</td>\n",
       "      <td>55.31</td>\n",
       "      <td>2.5</td>\n",
       "      <td>2.28</td>\n",
       "      <td>3.04</td>\n",
       "      <td>62.34</td>\n",
       "      <td>0.33</td>\n",
       "      <td>1.55</td>\n",
       "      <td>0.43</td>\n",
       "      <td>...</td>\n",
       "      <td>2.32</td>\n",
       "      <td>2.74</td>\n",
       "      <td>0.48</td>\n",
       "      <td>0.32</td>\n",
       "      <td>49.45</td>\n",
       "      <td>1.55</td>\n",
       "      <td>0.64</td>\n",
       "      <td>0.76</td>\n",
       "      <td>2.33</td>\n",
       "      <td>181.01</td>\n",
       "    </tr>\n",
       "    <tr>\n",
       "      <th>min</th>\n",
       "      <td>131.00</td>\n",
       "      <td>0.00</td>\n",
       "      <td>11.00</td>\n",
       "      <td>1.0</td>\n",
       "      <td>1.00</td>\n",
       "      <td>1.00</td>\n",
       "      <td>10.33</td>\n",
       "      <td>0.00</td>\n",
       "      <td>0.00</td>\n",
       "      <td>0.00</td>\n",
       "      <td>...</td>\n",
       "      <td>0.00</td>\n",
       "      <td>0.00</td>\n",
       "      <td>0.00</td>\n",
       "      <td>0.00</td>\n",
       "      <td>33.40</td>\n",
       "      <td>1.00</td>\n",
       "      <td>0.00</td>\n",
       "      <td>1.00</td>\n",
       "      <td>5.00</td>\n",
       "      <td>0.00</td>\n",
       "    </tr>\n",
       "    <tr>\n",
       "      <th>25%</th>\n",
       "      <td>1350.00</td>\n",
       "      <td>0.00</td>\n",
       "      <td>39.00</td>\n",
       "      <td>3.0</td>\n",
       "      <td>5.00</td>\n",
       "      <td>3.00</td>\n",
       "      <td>72.00</td>\n",
       "      <td>1.00</td>\n",
       "      <td>0.00</td>\n",
       "      <td>0.00</td>\n",
       "      <td>...</td>\n",
       "      <td>0.00</td>\n",
       "      <td>1.00</td>\n",
       "      <td>0.00</td>\n",
       "      <td>0.00</td>\n",
       "      <td>114.40</td>\n",
       "      <td>3.00</td>\n",
       "      <td>0.00</td>\n",
       "      <td>2.00</td>\n",
       "      <td>12.00</td>\n",
       "      <td>0.00</td>\n",
       "    </tr>\n",
       "    <tr>\n",
       "      <th>50%</th>\n",
       "      <td>1740.00</td>\n",
       "      <td>1.00</td>\n",
       "      <td>60.00</td>\n",
       "      <td>5.0</td>\n",
       "      <td>7.00</td>\n",
       "      <td>5.00</td>\n",
       "      <td>94.16</td>\n",
       "      <td>1.00</td>\n",
       "      <td>1.00</td>\n",
       "      <td>0.00</td>\n",
       "      <td>...</td>\n",
       "      <td>0.00</td>\n",
       "      <td>2.00</td>\n",
       "      <td>0.00</td>\n",
       "      <td>0.00</td>\n",
       "      <td>145.60</td>\n",
       "      <td>4.00</td>\n",
       "      <td>1.00</td>\n",
       "      <td>3.00</td>\n",
       "      <td>13.00</td>\n",
       "      <td>0.00</td>\n",
       "    </tr>\n",
       "    <tr>\n",
       "      <th>75%</th>\n",
       "      <td>2670.00</td>\n",
       "      <td>1.00</td>\n",
       "      <td>95.00</td>\n",
       "      <td>7.0</td>\n",
       "      <td>8.00</td>\n",
       "      <td>8.00</td>\n",
       "      <td>117.29</td>\n",
       "      <td>1.00</td>\n",
       "      <td>2.00</td>\n",
       "      <td>0.00</td>\n",
       "      <td>...</td>\n",
       "      <td>3.00</td>\n",
       "      <td>4.00</td>\n",
       "      <td>1.00</td>\n",
       "      <td>0.00</td>\n",
       "      <td>173.78</td>\n",
       "      <td>5.00</td>\n",
       "      <td>1.00</td>\n",
       "      <td>3.00</td>\n",
       "      <td>15.00</td>\n",
       "      <td>174.00</td>\n",
       "    </tr>\n",
       "    <tr>\n",
       "      <th>max</th>\n",
       "      <td>8793.75</td>\n",
       "      <td>1.00</td>\n",
       "      <td>493.00</td>\n",
       "      <td>19.0</td>\n",
       "      <td>18.00</td>\n",
       "      <td>10.00</td>\n",
       "      <td>1645.60</td>\n",
       "      <td>1.00</td>\n",
       "      <td>13.00</td>\n",
       "      <td>3.00</td>\n",
       "      <td>...</td>\n",
       "      <td>9.00</td>\n",
       "      <td>19.00</td>\n",
       "      <td>1.00</td>\n",
       "      <td>1.00</td>\n",
       "      <td>564.20</td>\n",
       "      <td>11.00</td>\n",
       "      <td>3.00</td>\n",
       "      <td>5.00</td>\n",
       "      <td>19.00</td>\n",
       "      <td>1600.00</td>\n",
       "    </tr>\n",
       "  </tbody>\n",
       "</table>\n",
       "<p>8 rows × 24 columns</p>\n",
       "</div>"
      ],
      "text/plain": [
       "       REVENUE  CROSS_SELL_SUCCESS  TOTAL_MEALS_ORDERED  UNIQUE_MEALS_PURCH  \\\n",
       "count  1946.00             1946.00              1946.00              1946.0   \n",
       "mean   2107.29                0.68                74.63                 4.9   \n",
       "std    1138.29                0.47                55.31                 2.5   \n",
       "min     131.00                0.00                11.00                 1.0   \n",
       "25%    1350.00                0.00                39.00                 3.0   \n",
       "50%    1740.00                1.00                60.00                 5.0   \n",
       "75%    2670.00                1.00                95.00                 7.0   \n",
       "max    8793.75                1.00               493.00                19.0   \n",
       "\n",
       "       CONTACTS_W_CUSTOMER_SERVICE  PRODUCT_CATEGORIES_VIEWED  \\\n",
       "count                      1946.00                    1946.00   \n",
       "mean                          6.98                       5.38   \n",
       "std                           2.28                       3.04   \n",
       "min                           1.00                       1.00   \n",
       "25%                           5.00                       3.00   \n",
       "50%                           7.00                       5.00   \n",
       "75%                           8.00                       8.00   \n",
       "max                          18.00                      10.00   \n",
       "\n",
       "       AVG_TIME_PER_SITE_VISIT  MOBILE_NUMBER  CANCELLATIONS_BEFORE_NOON  \\\n",
       "count                  1946.00        1946.00                    1946.00   \n",
       "mean                     99.60           0.88                       1.40   \n",
       "std                      62.34           0.33                       1.55   \n",
       "min                      10.33           0.00                       0.00   \n",
       "25%                      72.00           1.00                       0.00   \n",
       "50%                      94.16           1.00                       1.00   \n",
       "75%                     117.29           1.00                       2.00   \n",
       "max                    1645.60           1.00                      13.00   \n",
       "\n",
       "       CANCELLATIONS_AFTER_NOON  ...  EARLY_DELIVERIES  LATE_DELIVERIES  \\\n",
       "count                   1946.00  ...           1946.00          1946.00   \n",
       "mean                       0.17  ...              1.49             2.97   \n",
       "std                        0.43  ...              2.32             2.74   \n",
       "min                        0.00  ...              0.00             0.00   \n",
       "25%                        0.00  ...              0.00             1.00   \n",
       "50%                        0.00  ...              0.00             2.00   \n",
       "75%                        0.00  ...              3.00             4.00   \n",
       "max                        3.00  ...              9.00            19.00   \n",
       "\n",
       "       PACKAGE_LOCKER  REFRIGERATED_LOCKER  AVG_PREP_VID_TIME  \\\n",
       "count         1946.00              1946.00            1946.00   \n",
       "mean             0.36                 0.11             150.56   \n",
       "std              0.48                 0.32              49.45   \n",
       "min              0.00                 0.00              33.40   \n",
       "25%              0.00                 0.00             114.40   \n",
       "50%              0.00                 0.00             145.60   \n",
       "75%              1.00                 0.00             173.78   \n",
       "max              1.00                 1.00             564.20   \n",
       "\n",
       "       LARGEST_ORDER_SIZE  MASTER_CLASSES_ATTENDED  MEDIAN_MEAL_RATING  \\\n",
       "count             1946.00                  1946.00             1946.00   \n",
       "mean                 4.44                     0.60                2.79   \n",
       "std                  1.55                     0.64                0.76   \n",
       "min                  1.00                     0.00                1.00   \n",
       "25%                  3.00                     0.00                2.00   \n",
       "50%                  4.00                     1.00                3.00   \n",
       "75%                  5.00                     1.00                3.00   \n",
       "max                 11.00                     3.00                5.00   \n",
       "\n",
       "       AVG_CLICKS_PER_VISIT  TOTAL_PHOTOS_VIEWED  \n",
       "count               1946.00              1946.00  \n",
       "mean                  13.51               106.43  \n",
       "std                    2.33               181.01  \n",
       "min                    5.00                 0.00  \n",
       "25%                   12.00                 0.00  \n",
       "50%                   13.00                 0.00  \n",
       "75%                   15.00               174.00  \n",
       "max                   19.00              1600.00  \n",
       "\n",
       "[8 rows x 24 columns]"
      ]
     },
     "execution_count": 7,
     "metadata": {},
     "output_type": "execute_result"
    }
   ],
   "source": [
    "# Looking at descriptive statistics for numeric data\n",
    "apprentice.describe(include = 'number').round(decimals = 2)"
   ]
  },
  {
   "cell_type": "markdown",
   "metadata": {},
   "source": [
    "<br>\n",
    "<h1> PART II: FEATURE ENGINEERING </h1>\n",
    "<br>"
   ]
  },
  {
   "cell_type": "markdown",
   "metadata": {},
   "source": [
    "<h2> 1. CONTINUOUS DATA </h2>\n",
    "<h3> CREATING A LOGARITHMIC FEATURE FOR REVENUE </h3>"
   ]
  },
  {
   "cell_type": "code",
   "execution_count": 8,
   "metadata": {
    "cell_style": "split"
   },
   "outputs": [
    {
     "data": {
      "image/png": "[encoded data removed]",
      "text/plain": [
       "<Figure size 432x288 with 1 Axes>"
      ]
     },
     "metadata": {
      "needs_background": "light"
     },
     "output_type": "display_data"
    }
   ],
   "source": [
    "# Developing a histogram for REVENUE\n",
    "sns.histplot(data = apprentice, x = \"REVENUE\", kde = True)\n",
    "\n",
    "# Adding a title and axis labels\n",
    "plt.title(label = \"Original Distribution of Revenue\")\n",
    "plt.xlabel(xlabel = \"Revenue generated by each customer\")\n",
    "plt.ylabel(ylabel = \"Count\")\n",
    "\n",
    "# Displaying the histogram\n",
    "plt.show()\n",
    "\n",
    "\n",
    "## The distribution of revenue is skewed to the left."
   ]
  },
  {
   "cell_type": "code",
   "execution_count": 9,
   "metadata": {
    "cell_style": "split"
   },
   "outputs": [
    {
     "data": {
      "image/png": "[encoded data removed]",
      "text/plain": [
       "<Figure size 432x288 with 1 Axes>"
      ]
     },
     "metadata": {
      "needs_background": "light"
     },
     "output_type": "display_data"
    }
   ],
   "source": [
    "# Log transforming REVENUE \n",
    "apprentice['log_revenue'] = np.log(apprentice['REVENUE'])\n",
    "\n",
    "# Developing a histogram for log_revenue\n",
    "sns.histplot(data = apprentice, x = \"log_revenue\", kde = True)\n",
    "\n",
    "# Adding a title and axis labels\n",
    "plt.title(label = \"Logarithmic Distribution of Revenue\")\n",
    "plt.xlabel(xlabel = \"Revenue generated by each customer\")\n",
    "plt.ylabel(ylabel = \"Count\")\n",
    "\n",
    "# Displaying the histogram\n",
    "plt.show()\n",
    "\n",
    "\n",
    "## The distribution is improved"
   ]
  },
  {
   "cell_type": "markdown",
   "metadata": {},
   "source": [
    "<h3> CREATING A LOGARITHMIC FEATURE FOR AVG_TIME_PER_VISIT </h3>"
   ]
  },
  {
   "cell_type": "code",
   "execution_count": 10,
   "metadata": {
    "cell_style": "split"
   },
   "outputs": [
    {
     "data": {
      "image/png": "[encoded data removed]",
      "text/plain": [
       "<Figure size 432x288 with 1 Axes>"
      ]
     },
     "metadata": {
      "needs_background": "light"
     },
     "output_type": "display_data"
    }
   ],
   "source": [
    "# Developing a histogram for AVG_TIME_PER_SITE_VISIT\n",
    "sns.histplot(data = apprentice, x = \"AVG_TIME_PER_SITE_VISIT\", kde = True)\n",
    "\n",
    "# Adding a title and axis labels\n",
    "plt.title(label = \"Original Distribution of Average Time per Visit\")\n",
    "plt.xlabel(xlabel = \"Time spent on website by each customer\")\n",
    "plt.ylabel(ylabel = \"Count\")\n",
    "\n",
    "# Displaying the histogram\n",
    "plt.show()\n",
    "\n",
    "\n",
    "## The distribution of revenue is highly skewed to the left."
   ]
  },
  {
   "cell_type": "code",
   "execution_count": 11,
   "metadata": {
    "cell_style": "split"
   },
   "outputs": [
    {
     "data": {
      "image/png": "[encoded data removed]",
      "text/plain": [
       "<Figure size 432x288 with 1 Axes>"
      ]
     },
     "metadata": {
      "needs_background": "light"
     },
     "output_type": "display_data"
    }
   ],
   "source": [
    "# Log transforming AVG_TIME_PER_VISIT \n",
    "apprentice['log_avg_time'] = np.log(apprentice['AVG_TIME_PER_SITE_VISIT'])\n",
    "\n",
    "# Developing a histogram for log_avg_time\n",
    "sns.histplot(data = apprentice, x = \"log_avg_time\", kde = True)\n",
    "\n",
    "# Adding a title and axis labels\n",
    "plt.title(label = \"Logarithmic Distribution of Average Time per Visit\")\n",
    "plt.xlabel(xlabel = \"Time spent on website by each customer\")\n",
    "plt.ylabel(ylabel = \"Count\")\n",
    "\n",
    "# Displaying the histogram\n",
    "plt.show()\n",
    "\n",
    "\n",
    "## The distribution is improved"
   ]
  },
  {
   "cell_type": "markdown",
   "metadata": {},
   "source": [
    "<h3> CREATING A LOGARITHMIC FEATURE FOR AVG_PREP_VID_TIME </h3>"
   ]
  },
  {
   "cell_type": "code",
   "execution_count": 12,
   "metadata": {
    "cell_style": "split"
   },
   "outputs": [
    {
     "data": {
      "image/png": "[encoded data removed]",
      "text/plain": [
       "<Figure size 432x288 with 1 Axes>"
      ]
     },
     "metadata": {
      "needs_background": "light"
     },
     "output_type": "display_data"
    }
   ],
   "source": [
    "# Developing a histogram for AVG_PREP_VID_TIME\n",
    "sns.histplot(data = apprentice, x = \"AVG_PREP_VID_TIME\", kde = True)\n",
    "\n",
    "# Adding a title and axis labels\n",
    "plt.title(label = \"Original Distribution of Average Time per Visit\")\n",
    "plt.xlabel(xlabel = \"Time preparation video was played\")\n",
    "plt.ylabel(ylabel = \"Count\")\n",
    "\n",
    "# Displaying the histogram\n",
    "plt.show()\n",
    "\n",
    "\n",
    "## The distribution of revenue is skewed to the left."
   ]
  },
  {
   "cell_type": "code",
   "execution_count": 13,
   "metadata": {
    "cell_style": "split",
    "scrolled": true
   },
   "outputs": [
    {
     "data": {
      "image/png": "[encoded data removed]",
      "text/plain": [
       "<Figure size 432x288 with 1 Axes>"
      ]
     },
     "metadata": {
      "needs_background": "light"
     },
     "output_type": "display_data"
    }
   ],
   "source": [
    "# Log transforming AVG_PREP_VID_TIME\n",
    "apprentice['log_prep_vid'] = np.log(apprentice['AVG_PREP_VID_TIME'])\n",
    "\n",
    "# Developing a histogram for log_prep_vid\n",
    "sns.histplot(data = apprentice, x = \"log_prep_vid\", kde = True)\n",
    "\n",
    "# Adding a title and axis labels\n",
    "plt.title(label = \"Logarithmic Distribution of Average Time per Visit\")\n",
    "plt.xlabel(xlabel = \"Time preparation video was played\")\n",
    "plt.ylabel(ylabel = \"Count\")\n",
    "\n",
    "# Displaying the histogram\n",
    "plt.show()\n",
    "\n",
    "\n",
    "## The distribution is improved."
   ]
  },
  {
   "cell_type": "markdown",
   "metadata": {},
   "source": [
    "<h2> 2. COUNT AND INTERVAL DATA </h2>\n",
    "<h3> TOTAL_MEALS_ORDERED </h3>"
   ]
  },
  {
   "cell_type": "code",
   "execution_count": 14,
   "metadata": {
    "cell_style": "split"
   },
   "outputs": [
    {
     "data": {
      "text/plain": [
       "count    1946.00\n",
       "mean       74.63\n",
       "std        55.31\n",
       "min        11.00\n",
       "25%        39.00\n",
       "50%        60.00\n",
       "75%        95.00\n",
       "max       493.00\n",
       "Name: TOTAL_MEALS_ORDERED, dtype: float64"
      ]
     },
     "execution_count": 14,
     "metadata": {},
     "output_type": "execute_result"
    }
   ],
   "source": [
    "# Descriptive statisctics for TOTAL_MEALS_ORDERED\n",
    "apprentice['TOTAL_MEALS_ORDERED'].describe(include = 'number').round(decimals = 2)"
   ]
  },
  {
   "cell_type": "code",
   "execution_count": 15,
   "metadata": {
    "cell_style": "split"
   },
   "outputs": [],
   "source": [
    "# Placeholder variables using percentiles\n",
    "apprentice['small_customer'] = 0\n",
    "apprentice['medium_customer'] = 0\n",
    "apprentice['large_customer'] = 0\n",
    "\n",
    "# Creating a loop to fill\n",
    "for index, row in apprentice.iterrows():\n",
    "    \n",
    "    # small_customer\n",
    "    if apprentice.loc[index, 'TOTAL_MEALS_ORDERED'] < 39 :\n",
    "        apprentice.loc[index, 'small_customer'] = 1   \n",
    "     \n",
    "    # medium_customer\n",
    "    elif apprentice.loc[index, 'TOTAL_MEALS_ORDERED'] >= 40 and apprentice.loc[index, 'TOTAL_MEALS_ORDERED'] < 95:\n",
    "        apprentice.loc[index, 'medium_customer'] = 1\n",
    "    \n",
    "    # large_customer\n",
    "    if apprentice.loc[index, 'TOTAL_MEALS_ORDERED'] >= 95 :\n",
    "        apprentice.loc[index, 'large_customer'] = 1"
   ]
  },
  {
   "cell_type": "code",
   "execution_count": 16,
   "metadata": {},
   "outputs": [],
   "source": [
    "# Log transforming TOTAL_MEALS_ORDERED\n",
    "apprentice['log_total_meal_ordered'] = np.log(apprentice['TOTAL_MEALS_ORDERED'])"
   ]
  },
  {
   "cell_type": "markdown",
   "metadata": {},
   "source": [
    "<h3> UNIQUE_MEALS_PURCH </h3>"
   ]
  },
  {
   "cell_type": "code",
   "execution_count": 17,
   "metadata": {},
   "outputs": [],
   "source": [
    "# Creating a feature measuring the number of unique meal set purchased compared to the total number purchased\n",
    "apprentice['ratio_unique'] = apprentice['UNIQUE_MEALS_PURCH']/apprentice['TOTAL_MEALS_ORDERED']"
   ]
  },
  {
   "cell_type": "markdown",
   "metadata": {},
   "source": [
    "<h3> CONTACTS_W_CUSTOMER_SERVICE </h3>"
   ]
  },
  {
   "cell_type": "code",
   "execution_count": 18,
   "metadata": {
    "cell_style": "split"
   },
   "outputs": [
    {
     "data": {
      "text/plain": [
       "count    1946.00\n",
       "mean        6.98\n",
       "std         2.28\n",
       "min         1.00\n",
       "25%         5.00\n",
       "50%         7.00\n",
       "75%         8.00\n",
       "max        18.00\n",
       "Name: CONTACTS_W_CUSTOMER_SERVICE, dtype: float64"
      ]
     },
     "execution_count": 18,
     "metadata": {},
     "output_type": "execute_result"
    }
   ],
   "source": [
    "# Descriptive statisctics for CONTACTS_W_CUSTOMER_SERVICE\n",
    "apprentice['CONTACTS_W_CUSTOMER_SERVICE'].describe(include = 'number').round(decimals = 2)"
   ]
  },
  {
   "cell_type": "code",
   "execution_count": 19,
   "metadata": {
    "cell_style": "split"
   },
   "outputs": [],
   "source": [
    "# Placeholder variables using percentiles\n",
    "apprentice['low_contact'] = 0\n",
    "apprentice['medium_contact'] = 0\n",
    "apprentice['large_contact'] = 0\n",
    "\n",
    "# Creating a loop to fill\n",
    "for index, row in apprentice.iterrows():\n",
    "    \n",
    "    # low_contact\n",
    "    if apprentice.loc[index, 'CONTACTS_W_CUSTOMER_SERVICE'] < 5 :\n",
    "        apprentice.loc[index, 'low_contact'] = 1   \n",
    "     \n",
    "    # medium_contact\n",
    "    elif apprentice.loc[index, 'CONTACTS_W_CUSTOMER_SERVICE'] >= 5 and apprentice.loc[index, 'CONTACTS_W_CUSTOMER_SERVICE'] < 8:\n",
    "        apprentice.loc[index, 'medium_contact'] = 1\n",
    "    \n",
    "    # large_contact\n",
    "    if apprentice.loc[index, 'CONTACTS_W_CUSTOMER_SERVICE'] >= 8 :\n",
    "        apprentice.loc[index, 'large_contact'] = 1"
   ]
  },
  {
   "cell_type": "markdown",
   "metadata": {},
   "source": [
    "<h3> PRODUCT_CATEGORIES_VIEWED </h3>"
   ]
  },
  {
   "cell_type": "code",
   "execution_count": 20,
   "metadata": {
    "cell_style": "center"
   },
   "outputs": [],
   "source": [
    "# Creating a feature with the number of meal set purchased compared to the average number of set per order\n",
    "apprentice['category_nb_meal'] = apprentice['LARGEST_ORDER_SIZE']/apprentice['PRODUCT_CATEGORIES_VIEWED']"
   ]
  },
  {
   "cell_type": "markdown",
   "metadata": {},
   "source": [
    "<h3> AVG_CLICKS_PER_VISIT </h3>"
   ]
  },
  {
   "cell_type": "code",
   "execution_count": 21,
   "metadata": {},
   "outputs": [
    {
     "data": {
      "text/plain": [
       "count    1946.00\n",
       "mean       13.51\n",
       "std         2.33\n",
       "min         5.00\n",
       "25%        12.00\n",
       "50%        13.00\n",
       "75%        15.00\n",
       "max        19.00\n",
       "Name: AVG_CLICKS_PER_VISIT, dtype: float64"
      ]
     },
     "execution_count": 21,
     "metadata": {},
     "output_type": "execute_result"
    }
   ],
   "source": [
    "# Descriptive statisctics for LARGEST_ORDER_SIZE\n",
    "apprentice['AVG_CLICKS_PER_VISIT'].describe(include = 'number').round(decimals = 2)"
   ]
  },
  {
   "cell_type": "code",
   "execution_count": 22,
   "metadata": {},
   "outputs": [],
   "source": [
    "# Log transforming LARGEST_ORDER_SIZE\n",
    "apprentice['log_avg_clicks_per_visit'] = np.log(apprentice['AVG_CLICKS_PER_VISIT'])"
   ]
  },
  {
   "cell_type": "markdown",
   "metadata": {},
   "source": [
    "<h3> MEDIAN_MEAL_RATING </h3>"
   ]
  },
  {
   "cell_type": "code",
   "execution_count": 23,
   "metadata": {
    "cell_style": "split"
   },
   "outputs": [
    {
     "data": {
      "text/plain": [
       "count    1946.00\n",
       "mean        2.79\n",
       "std         0.76\n",
       "min         1.00\n",
       "25%         2.00\n",
       "50%         3.00\n",
       "75%         3.00\n",
       "max         5.00\n",
       "Name: MEDIAN_MEAL_RATING, dtype: float64"
      ]
     },
     "execution_count": 23,
     "metadata": {},
     "output_type": "execute_result"
    }
   ],
   "source": [
    "apprentice['MEDIAN_MEAL_RATING'].describe(include = 'number').round(decimals = 2)"
   ]
  },
  {
   "cell_type": "code",
   "execution_count": 24,
   "metadata": {
    "cell_style": "split"
   },
   "outputs": [],
   "source": [
    "# Placeholder variables using percentiles\n",
    "apprentice['low_ranking'] = 0\n",
    "apprentice['medium_ranking'] = 0\n",
    "apprentice['high_ranking'] = 0\n",
    "\n",
    "# Creating a loop to fill\n",
    "for index, row in apprentice.iterrows():\n",
    "    \n",
    "    # low_contact\n",
    "    if apprentice.loc[index, 'MEDIAN_MEAL_RATING'] < 3:\n",
    "        apprentice.loc[index, 'low_ranking'] = 1   \n",
    "     \n",
    "    # medium_contact\n",
    "    elif apprentice.loc[index, 'MEDIAN_MEAL_RATING'] == 3:\n",
    "        apprentice.loc[index, 'medium_ranking'] = 1\n",
    "    \n",
    "    # large_contact\n",
    "    if apprentice.loc[index, 'MEDIAN_MEAL_RATING'] > 3 :\n",
    "        apprentice.loc[index, 'high_ranking'] = 1"
   ]
  },
  {
   "cell_type": "markdown",
   "metadata": {},
   "source": [
    "<h3> TOTAL_PHOTOS_VIEWED </h3>"
   ]
  },
  {
   "cell_type": "code",
   "execution_count": 25,
   "metadata": {
    "cell_style": "split"
   },
   "outputs": [
    {
     "data": {
      "image/png": "[encoded data removed]",
      "text/plain": [
       "<Figure size 432x288 with 1 Axes>"
      ]
     },
     "metadata": {
      "needs_background": "light"
     },
     "output_type": "display_data"
    }
   ],
   "source": [
    "# Developing a histogram for AVG_PREP_VID_TIME\n",
    "sns.histplot(data = apprentice, x = \"TOTAL_PHOTOS_VIEWED\", kde = True)\n",
    "\n",
    "# Adding a title and axis labels\n",
    "plt.title(label = \"Original Distribution of Average Time per Visit\")\n",
    "plt.xlabel(xlabel = \"Time preparation video was played\")\n",
    "plt.ylabel(ylabel = \"Count\")\n",
    "\n",
    "# Displaying the histogram\n",
    "plt.show()"
   ]
  },
  {
   "cell_type": "code",
   "execution_count": 26,
   "metadata": {
    "cell_style": "split"
   },
   "outputs": [],
   "source": [
    "# Placeholder variables using percentiles\n",
    "apprentice['viewed_photo'] = 0\n",
    "\n",
    "# Creating a loop to fill\n",
    "for index, row in apprentice.iterrows():\n",
    "    \n",
    "    # small_customer\n",
    "    if apprentice.loc[index, 'TOTAL_PHOTOS_VIEWED'] == 0 :\n",
    "        apprentice.loc[index, 'viewed_photo'] = 0   \n",
    "     \n",
    "    # medium_customer\n",
    "    elif apprentice.loc[index, 'TOTAL_PHOTOS_VIEWED'] >= 1:\n",
    "        apprentice.loc[index, 'viewed_photo'] = 1\n",
    "    "
   ]
  },
  {
   "cell_type": "markdown",
   "metadata": {},
   "source": [
    "<br>\n",
    "<h2> PART 3: BUILDING A MODEL </h2>"
   ]
  },
  {
   "cell_type": "markdown",
   "metadata": {},
   "source": [
    "<br>\n",
    "<h3> SPLITTING DATA INTO TRAINING AND TESTING </h3>"
   ]
  },
  {
   "cell_type": "code",
   "execution_count": 27,
   "metadata": {},
   "outputs": [],
   "source": [
    "# Creating a model with all numeric variables\n",
    "\n",
    "# Creating features and target variable\n",
    "X = apprentice.loc[:,['CROSS_SELL_SUCCESS','UNIQUE_MEALS_PURCH','CONTACTS_W_CUSTOMER_SERVICE','PRODUCT_CATEGORIES_VIEWED','MOBILE_NUMBER','CANCELLATIONS_BEFORE_NOON','CANCELLATIONS_AFTER_NOON','TASTES_AND_PREFERENCES','PC_LOGINS','MOBILE_LOGINS','WEEKLY_PLAN','EARLY_DELIVERIES','LATE_DELIVERIES','PACKAGE_LOCKER','REFRIGERATED_LOCKER','LARGEST_ORDER_SIZE','MASTER_CLASSES_ATTENDED','MEDIAN_MEAL_RATING','TOTAL_PHOTOS_VIEWED','log_avg_time','log_prep_vid','small_customer','medium_customer','large_customer','log_total_meal_ordered','ratio_unique','low_contact','medium_contact','large_contact','category_nb_meal','log_avg_clicks_per_visit','low_ranking','medium_ranking','high_ranking','viewed_photo']]\n",
    "y = apprentice.loc[:,['log_revenue']]\n",
    "\n",
    "# Splitting the data in training and testing set\n",
    "X_train, X_test, y_train, y_test = train_test_split(X,y, random_state = 219, test_size = 0.25)"
   ]
  },
  {
   "cell_type": "markdown",
   "metadata": {},
   "source": [
    "<h3> LINEAR REGRESSION </h3>"
   ]
  },
  {
   "cell_type": "code",
   "execution_count": 28,
   "metadata": {},
   "outputs": [],
   "source": [
    "# Creating the linear regression object\n",
    "lr = LinearRegression()\n",
    "\n",
    "# Fitting the regression model to the training data\n",
    "lr_fit = lr.fit(X_train, y_train)\n",
    "\n",
    "# Predicting on the test data\n",
    "lr_prediction = lr_fit.predict(X_test)\n",
    "\n",
    "# Creating score variables for training and testing\n",
    "lr_training_score = lr.score(X_train, y_train).round(4)\n",
    "lr_testing_score = lr.score(X_test, y_test).round(4)"
   ]
  },
  {
   "cell_type": "markdown",
   "metadata": {},
   "source": [
    "<h3> LASSO REGRESSION </h3>"
   ]
  },
  {
   "cell_type": "code",
   "execution_count": 29,
   "metadata": {},
   "outputs": [],
   "source": [
    "# Creating the lasso model object\n",
    "lasso = Lasso()\n",
    "\n",
    "# Fitting the regression model to the training data\n",
    "lasso_fit = lasso.fit(X_train, y_train)\n",
    "\n",
    "# Predicting on the test data\n",
    "lasso_pred = lasso_fit.predict(X_test)\n",
    "\n",
    "# Creating score variables for training and testing\n",
    "lasso_training_score = lasso.score(X_train, y_train).round(4)\n",
    "lasso_testing_score = lasso.score(X_test, y_test).round(4)"
   ]
  },
  {
   "cell_type": "markdown",
   "metadata": {},
   "source": [
    "<h3> ARD REGRESSION </h3>"
   ]
  },
  {
   "cell_type": "code",
   "execution_count": 30,
   "metadata": {},
   "outputs": [
    {
     "name": "stderr",
     "output_type": "stream",
     "text": [
      "/Users/emilie/opt/anaconda3/lib/python3.9/site-packages/sklearn/linear_model/_base.py:148: FutureWarning: 'normalize' was deprecated in version 1.0 and will be removed in 1.2. Please leave the normalize parameter to its default value to silence this warning. The default behavior of this estimator is to not do any normalization. If normalization is needed please use sklearn.preprocessing.StandardScaler instead.\n",
      "  warnings.warn(\n",
      "/Users/emilie/opt/anaconda3/lib/python3.9/site-packages/sklearn/utils/validation.py:993: DataConversionWarning: A column-vector y was passed when a 1d array was expected. Please change the shape of y to (n_samples, ), for example using ravel().\n",
      "  y = column_or_1d(y, warn=True)\n"
     ]
    }
   ],
   "source": [
    "# Creating the ard regression object\n",
    "ard_model = ARDRegression(normalize  = False)\n",
    "\n",
    "# Fitting the regression model to the training data\n",
    "ard_fit = ard_model.fit(X_train, y_train)\n",
    "\n",
    "# Predicting on the test data\n",
    "ard_pred = ard_fit.predict(X_test)\n",
    "\n",
    "# Creating score variables for training and testing\n",
    "ard_training_score = ard_model.score(X_train, y_train).round(4)\n",
    "ard_testing_score = ard_model.score(X_test, y_test).round(4)"
   ]
  },
  {
   "cell_type": "markdown",
   "metadata": {},
   "source": [
    "<h3> KNN REGRESSION </h3>"
   ]
  },
  {
   "cell_type": "code",
   "execution_count": 31,
   "metadata": {},
   "outputs": [],
   "source": [
    "# Creating the knn regression object\n",
    "knn_reg = KNeighborsRegressor()\n",
    "\n",
    "# Fitting the regression model to the training data\n",
    "knn_fit = knn_reg.fit(X_train, y_train)\n",
    "\n",
    "# Predicting on the test data\n",
    "knn_reg_pred = knn_fit.predict(X_test)\n",
    "\n",
    "# Creating score variables for training and testing\n",
    "knn_training_score =  knn_reg.score(X_train, y_train).round(4)\n",
    "knn_testing_score =  knn_reg.score(X_test, y_test).round(4)"
   ]
  },
  {
   "cell_type": "markdown",
   "metadata": {},
   "source": [
    "<h3> SUMMARY REGRESSION SCORE </h3>"
   ]
  },
  {
   "cell_type": "code",
   "execution_count": 32,
   "metadata": {},
   "outputs": [
    {
     "name": "stdout",
     "output_type": "stream",
     "text": [
      "\n",
      "Model      Train Score      Test Score      Train-Test Gap\n",
      "-----      -----------      ----------      --------------\n",
      "LR            0.7354          0.7319            0.0035\n",
      "Lasso         0.186           0.1841            0.0019  \n",
      "ARD           0.7298          0.7306           -0.0008  \n",
      "KNN           0.5808          0.365             0.2158  \n",
      "\n"
     ]
    }
   ],
   "source": [
    "print(f\"\"\"\n",
    "Model      Train Score      Test Score      Train-Test Gap\n",
    "-----      -----------      ----------      --------------\n",
    "LR            {lr_training_score}          {lr_testing_score}            {(lr_training_score-lr_testing_score).round(4)}\n",
    "Lasso         {lasso_training_score}           {lasso_testing_score}            {(lasso_training_score-lasso_testing_score).round(4)}  \n",
    "ARD           {ard_training_score}          {ard_testing_score}           {(ard_training_score-ard_testing_score).round(4)}  \n",
    "KNN           {knn_training_score}          {knn_testing_score}             {(knn_training_score-knn_testing_score).round(4)}  \n",
    "\"\"\")\n",
    "\n",
    "\n",
    "## The model with the best test score and the the smallest train-test gap\n",
    "## is the Linear model. Therefore, this is the one that should be selected\n"
   ]
  },
  {
   "cell_type": "markdown",
   "metadata": {},
   "source": [
    "<br>\n",
    "<h2> --> BEST MODELS: LINEAR REGRESSION AND ARD </h2>"
   ]
  }
 ],
 "metadata": {
  "kernelspec": {
   "display_name": "Python 3 (ipykernel)",
   "language": "python",
   "name": "python3"
  },
  "language_info": {
   "codemirror_mode": {
    "name": "ipython",
    "version": 3
   },
   "file_extension": ".py",
   "mimetype": "text/x-python",
   "name": "python",
   "nbconvert_exporter": "python",
   "pygments_lexer": "ipython3",
   "version": "3.9.12"
  },
  "toc": {
   "base_numbering": 1,
   "nav_menu": {},
   "number_sections": false,
   "sideBar": true,
   "skip_h1_title": false,
   "title_cell": "Table of Contents",
   "title_sidebar": "Contents",
   "toc_cell": false,
   "toc_position": {},
   "toc_section_display": true,
   "toc_window_display": false
  },
  "varInspector": {
   "cols": {
    "lenName": 16,
    "lenType": 16,
    "lenVar": 40
   },
   "kernels_config": {
    "python": {
     "delete_cmd_postfix": "",
     "delete_cmd_prefix": "del ",
     "library": "var_list.py",
     "varRefreshCmd": "print(var_dic_list())"
    },
    "r": {
     "delete_cmd_postfix": ") ",
     "delete_cmd_prefix": "rm(",
     "library": "var_list.r",
     "varRefreshCmd": "cat(var_dic_list()) "
    }
   },
   "position": {
    "height": "293px",
    "left": "1062px",
    "right": "20px",
    "top": "120px",
    "width": "358px"
   },
   "types_to_exclude": [
    "module",
    "function",
    "builtin_function_or_method",
    "instance",
    "_Feature"
   ],
   "window_display": false
  }
 },
 "nbformat": 4,
 "nbformat_minor": 4
}
